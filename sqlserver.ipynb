{
 "cells": [
  {
   "cell_type": "code",
   "execution_count": 4,
   "metadata": {},
   "outputs": [],
   "source": [
    "from sqlalchemy import create_engine\n",
    "from sqlalchemy.engine import url\n",
    "import pypyodbc as odbc\n",
    "import pandas as pd\n",
    "import functions as fn\n",
    "import datetime\n",
    "from datetime import date, timedelta, datetime"
   ]
  },
  {
   "cell_type": "code",
   "execution_count": 44,
   "metadata": {},
   "outputs": [],
   "source": [
    "sqlStatement = 'SELECT MAX(goalDate) from nhl.dbo.goals'"
   ]
  },
  {
   "cell_type": "code",
   "execution_count": 45,
   "metadata": {},
   "outputs": [],
   "source": [
    "def dbConnection():\n",
    "    # Define the database connection URL\n",
    "    db_username = \"admin\"\n",
    "    db_password = \"There15hopE\"\n",
    "    db_host = \"database-1.cyw9fwvymrk0.eu-west-2.rds.amazonaws.com\"\n",
    "    db_name = \"nhl\"\n",
    "    db_url = f\"mssql+pyodbc://{db_username}:{db_password}@{db_host}/{db_name}?driver=ODBC+Driver+17+for+SQL+Server\"\n",
    "\n",
    "    # Create a SQLAlchemy engine\n",
    "    engine = create_engine(db_url, module=odbc)\n",
    "    return engine\n",
    "\n",
    "engine = dbConnection()"
   ]
  },
  {
   "cell_type": "code",
   "execution_count": 46,
   "metadata": {},
   "outputs": [
    {
     "data": {
      "text/plain": [
       "20231109"
      ]
     },
     "execution_count": 46,
     "metadata": {},
     "output_type": "execute_result"
    }
   ],
   "source": [
    "df = pd.read_sql_query(sqlStatement, engine)\n",
    "mDate = df.at[0,'']\n",
    "mDate = mDate + timedelta(days=1)\n",
    "int(mDate.strftime('%Y%m%d'))"
   ]
  },
  {
   "cell_type": "code",
   "execution_count": 6,
   "metadata": {},
   "outputs": [
    {
     "name": "stdout",
     "output_type": "stream",
     "text": [
      "2023-11-13 12:38:12.591808\n"
     ]
    }
   ],
   "source": [
    "print(datetime.now())"
   ]
  },
  {
   "cell_type": "code",
   "execution_count": null,
   "metadata": {},
   "outputs": [],
   "source": []
  }
 ],
 "metadata": {
  "kernelspec": {
   "display_name": "Python 3",
   "language": "python",
   "name": "python3"
  },
  "language_info": {
   "codemirror_mode": {
    "name": "ipython",
    "version": 3
   },
   "file_extension": ".py",
   "mimetype": "text/x-python",
   "name": "python",
   "nbconvert_exporter": "python",
   "pygments_lexer": "ipython3",
   "version": "3.11.6"
  }
 },
 "nbformat": 4,
 "nbformat_minor": 2
}
