{
 "cells": [
  {
   "cell_type": "code",
   "execution_count": 7,
   "metadata": {},
   "outputs": [],
   "source": [
    "import pandas as pd\n",
    "import numpy as np\n",
    "import matplotlib.pyplot as plt\n",
    "import functions as fn\n",
    "from sklearn.linear_model import LinearRegression"
   ]
  },
  {
   "cell_type": "code",
   "execution_count": 8,
   "metadata": {},
   "outputs": [],
   "source": [
    "sqlQuery = '''\n",
    "SELECT \n",
    "DISTINCT gl.gameID,\n",
    "gl.goalDate as gameDate,\n",
    "gl.teamID,\n",
    "count(gl.teamID) as goals,\n",
    "ga.winner \n",
    "from nhl.dbo.goals gl\n",
    "join nhl.dbo.game ga on gl.gameID = ga.gameID  \n",
    "GROUP by gl.gameID, gl.teamID, gl.goalDate, ga.winner \n",
    "ORDER BY gl.goalDate, gl.gameID, gl.teamID \n",
    "'''"
   ]
  },
  {
   "cell_type": "code",
   "execution_count": 9,
   "metadata": {},
   "outputs": [],
   "source": [
    "df = pd.read_sql_query(sqlQuery, fn.dbConnection())\n",
    "df = df.rename(columns={'gameid':'gameID','gamedate':'gameDate','teamid':'teamID'})"
   ]
  },
  {
   "cell_type": "code",
   "execution_count": 10,
   "metadata": {},
   "outputs": [
    {
     "data": {
      "text/html": [
       "<div>\n",
       "<style scoped>\n",
       "    .dataframe tbody tr th:only-of-type {\n",
       "        vertical-align: middle;\n",
       "    }\n",
       "\n",
       "    .dataframe tbody tr th {\n",
       "        vertical-align: top;\n",
       "    }\n",
       "\n",
       "    .dataframe thead th {\n",
       "        text-align: right;\n",
       "    }\n",
       "</style>\n",
       "<table border=\"1\" class=\"dataframe\">\n",
       "  <thead>\n",
       "    <tr style=\"text-align: right;\">\n",
       "      <th></th>\n",
       "      <th>gameDate</th>\n",
       "      <th>teamID</th>\n",
       "      <th>goals</th>\n",
       "      <th>winner</th>\n",
       "    </tr>\n",
       "    <tr>\n",
       "      <th>gameID</th>\n",
       "      <th></th>\n",
       "      <th></th>\n",
       "      <th></th>\n",
       "      <th></th>\n",
       "    </tr>\n",
       "  </thead>\n",
       "  <tbody>\n",
       "    <tr>\n",
       "      <th>20231010CHI@PIT</th>\n",
       "      <td>2023-10-10</td>\n",
       "      <td>CHI</td>\n",
       "      <td>4</td>\n",
       "      <td>CHI</td>\n",
       "    </tr>\n",
       "    <tr>\n",
       "      <th>20231010CHI@PIT</th>\n",
       "      <td>2023-10-10</td>\n",
       "      <td>PIT</td>\n",
       "      <td>2</td>\n",
       "      <td>CHI</td>\n",
       "    </tr>\n",
       "    <tr>\n",
       "      <th>20231010NSH@TB</th>\n",
       "      <td>2023-10-10</td>\n",
       "      <td>NSH</td>\n",
       "      <td>3</td>\n",
       "      <td>TB</td>\n",
       "    </tr>\n",
       "    <tr>\n",
       "      <th>20231010NSH@TB</th>\n",
       "      <td>2023-10-10</td>\n",
       "      <td>TB</td>\n",
       "      <td>5</td>\n",
       "      <td>TB</td>\n",
       "    </tr>\n",
       "    <tr>\n",
       "      <th>20231011CHI@BOS</th>\n",
       "      <td>2023-10-11</td>\n",
       "      <td>BOS</td>\n",
       "      <td>3</td>\n",
       "      <td>BOS</td>\n",
       "    </tr>\n",
       "    <tr>\n",
       "      <th>...</th>\n",
       "      <td>...</td>\n",
       "      <td>...</td>\n",
       "      <td>...</td>\n",
       "      <td>...</td>\n",
       "    </tr>\n",
       "    <tr>\n",
       "      <th>20231112DAL@MIN</th>\n",
       "      <td>2023-11-12</td>\n",
       "      <td>MIN</td>\n",
       "      <td>3</td>\n",
       "      <td>DAL</td>\n",
       "    </tr>\n",
       "    <tr>\n",
       "      <th>20231112SJ@ANA</th>\n",
       "      <td>2023-11-12</td>\n",
       "      <td>ANA</td>\n",
       "      <td>4</td>\n",
       "      <td>ANA</td>\n",
       "    </tr>\n",
       "    <tr>\n",
       "      <th>20231112SJ@ANA</th>\n",
       "      <td>2023-11-12</td>\n",
       "      <td>SJ</td>\n",
       "      <td>1</td>\n",
       "      <td>ANA</td>\n",
       "    </tr>\n",
       "    <tr>\n",
       "      <th>20231112VAN@MON</th>\n",
       "      <td>2023-11-12</td>\n",
       "      <td>MON</td>\n",
       "      <td>2</td>\n",
       "      <td>VAN</td>\n",
       "    </tr>\n",
       "    <tr>\n",
       "      <th>20231112VAN@MON</th>\n",
       "      <td>2023-11-12</td>\n",
       "      <td>VAN</td>\n",
       "      <td>5</td>\n",
       "      <td>VAN</td>\n",
       "    </tr>\n",
       "  </tbody>\n",
       "</table>\n",
       "<p>416 rows × 4 columns</p>\n",
       "</div>"
      ],
      "text/plain": [
       "                  gameDate teamID  goals winner\n",
       "gameID                                         \n",
       "20231010CHI@PIT 2023-10-10    CHI      4    CHI\n",
       "20231010CHI@PIT 2023-10-10    PIT      2    CHI\n",
       "20231010NSH@TB  2023-10-10    NSH      3     TB\n",
       "20231010NSH@TB  2023-10-10     TB      5     TB\n",
       "20231011CHI@BOS 2023-10-11    BOS      3    BOS\n",
       "...                    ...    ...    ...    ...\n",
       "20231112DAL@MIN 2023-11-12    MIN      3    DAL\n",
       "20231112SJ@ANA  2023-11-12    ANA      4    ANA\n",
       "20231112SJ@ANA  2023-11-12     SJ      1    ANA\n",
       "20231112VAN@MON 2023-11-12    MON      2    VAN\n",
       "20231112VAN@MON 2023-11-12    VAN      5    VAN\n",
       "\n",
       "[416 rows x 4 columns]"
      ]
     },
     "execution_count": 10,
     "metadata": {},
     "output_type": "execute_result"
    }
   ],
   "source": [
    "df['gameDate'] = pd.to_datetime(df['gameDate'], format='%Y-%m-%d')\n",
    "df = df.set_index('gameID')\n",
    "df"
   ]
  },
  {
   "cell_type": "code",
   "execution_count": 11,
   "metadata": {},
   "outputs": [],
   "source": [
    "def winner(x):\n",
    "    if x[0] == x[1]: return 'winner'\n",
    "    else: return 'loss'"
   ]
  },
  {
   "cell_type": "code",
   "execution_count": 12,
   "metadata": {},
   "outputs": [
    {
     "name": "stderr",
     "output_type": "stream",
     "text": [
      "/var/folders/w8/tgwf_kks31b4n340v9tt6m6r0000gn/T/ipykernel_50863/1930560119.py:2: FutureWarning: Series.__getitem__ treating keys as positions is deprecated. In a future version, integer keys will always be treated as labels (consistent with DataFrame behavior). To access a value by position, use `ser.iloc[pos]`\n",
      "  if x[0] == x[1]: return 'winner'\n"
     ]
    }
   ],
   "source": [
    "df['win'] = df[['teamID','winner']].apply(winner, axis=1)"
   ]
  },
  {
   "cell_type": "code",
   "execution_count": 13,
   "metadata": {},
   "outputs": [],
   "source": [
    "df = df.drop('winner', axis=1)"
   ]
  },
  {
   "cell_type": "code",
   "execution_count": 14,
   "metadata": {},
   "outputs": [],
   "source": [
    "avgWin = df.loc[df['win'] == 'winner']['goals'].mean()\n",
    "avgLoss = df.loc[df['win'] == 'loss']['goals'].mean()"
   ]
  },
  {
   "cell_type": "code",
   "execution_count": 15,
   "metadata": {},
   "outputs": [],
   "source": [
    "x = df.loc[df['win'] == 'winner']['goals'].unique()\n",
    "y = df.loc[df['win'] == 'winner']['goals'].value_counts()\n",
    "y = np.array(y)\n",
    "\n",
    "wdf = pd.DataFrame({'numberOfGoals':x, 'wins':y})\n",
    "wdf = wdf.set_index('numberOfGoals')\n",
    "\n",
    "\n",
    "\n",
    "\n",
    "x1 = df.loc[df['win'] == 'loss']['goals'].unique()\n",
    "y1 = df.loc[df['win'] == 'loss']['goals'].value_counts()\n",
    "\n",
    "ldf = pd.DataFrame({'numberOfGoals':x1, 'losses':y1})\n",
    "ldf = ldf.set_index('numberOfGoals')\n",
    "\n",
    "gdf = pd.merge(wdf, ldf, how='outer', on='numberOfGoals' )\n"
   ]
  },
  {
   "cell_type": "code",
   "execution_count": 16,
   "metadata": {},
   "outputs": [
    {
     "data": {
      "text/html": [
       "<div>\n",
       "<style scoped>\n",
       "    .dataframe tbody tr th:only-of-type {\n",
       "        vertical-align: middle;\n",
       "    }\n",
       "\n",
       "    .dataframe tbody tr th {\n",
       "        vertical-align: top;\n",
       "    }\n",
       "\n",
       "    .dataframe thead th {\n",
       "        text-align: right;\n",
       "    }\n",
       "</style>\n",
       "<table border=\"1\" class=\"dataframe\">\n",
       "  <thead>\n",
       "    <tr style=\"text-align: right;\">\n",
       "      <th></th>\n",
       "      <th>wins</th>\n",
       "      <th>losses</th>\n",
       "    </tr>\n",
       "    <tr>\n",
       "      <th>numberOfGoals</th>\n",
       "      <th></th>\n",
       "      <th></th>\n",
       "    </tr>\n",
       "  </thead>\n",
       "  <tbody>\n",
       "    <tr>\n",
       "      <th>1</th>\n",
       "      <td>2</td>\n",
       "      <td>46</td>\n",
       "    </tr>\n",
       "    <tr>\n",
       "      <th>2</th>\n",
       "      <td>8</td>\n",
       "      <td>70</td>\n",
       "    </tr>\n",
       "    <tr>\n",
       "      <th>3</th>\n",
       "      <td>46</td>\n",
       "      <td>53</td>\n",
       "    </tr>\n",
       "    <tr>\n",
       "      <th>4</th>\n",
       "      <td>67</td>\n",
       "      <td>1</td>\n",
       "    </tr>\n",
       "    <tr>\n",
       "      <th>5</th>\n",
       "      <td>50</td>\n",
       "      <td>21</td>\n",
       "    </tr>\n",
       "    <tr>\n",
       "      <th>6</th>\n",
       "      <td>14</td>\n",
       "      <td>0</td>\n",
       "    </tr>\n",
       "    <tr>\n",
       "      <th>7</th>\n",
       "      <td>5</td>\n",
       "      <td>5</td>\n",
       "    </tr>\n",
       "    <tr>\n",
       "      <th>8</th>\n",
       "      <td>27</td>\n",
       "      <td>0</td>\n",
       "    </tr>\n",
       "    <tr>\n",
       "      <th>10</th>\n",
       "      <td>1</td>\n",
       "      <td>0</td>\n",
       "    </tr>\n",
       "  </tbody>\n",
       "</table>\n",
       "</div>"
      ],
      "text/plain": [
       "               wins  losses\n",
       "numberOfGoals              \n",
       "1                 2      46\n",
       "2                 8      70\n",
       "3                46      53\n",
       "4                67       1\n",
       "5                50      21\n",
       "6                14       0\n",
       "7                 5       5\n",
       "8                27       0\n",
       "10                1       0"
      ]
     },
     "execution_count": 16,
     "metadata": {},
     "output_type": "execute_result"
    }
   ],
   "source": [
    "gdf = gdf.replace(np.nan,0)\n",
    "gdf.losses = gdf.losses.astype(int)\n",
    "gdf = gdf.sort_index()\n",
    "gdf"
   ]
  },
  {
   "cell_type": "code",
   "execution_count": 17,
   "metadata": {},
   "outputs": [],
   "source": [
    "x = gdf.index\n",
    "yw =  gdf['wins']\n",
    "yl = gdf['losses']"
   ]
  },
  {
   "cell_type": "code",
   "execution_count": 18,
   "metadata": {},
   "outputs": [],
   "source": [
    "polyDegrees = 3"
   ]
  },
  {
   "cell_type": "code",
   "execution_count": 19,
   "metadata": {},
   "outputs": [],
   "source": [
    "zw = np.polyfit(x, yw, polyDegrees)\n",
    "fw = np.poly1d(zw)\n",
    "xw_n = np.linspace(x[0], x[-1], 50)\n",
    "yw_n = fw(xw_n)"
   ]
  },
  {
   "cell_type": "code",
   "execution_count": 20,
   "metadata": {},
   "outputs": [],
   "source": [
    "zl = np.polyfit(x, yl, polyDegrees)\n",
    "fl = np.poly1d(zl)\n",
    "xl_n = np.linspace(x[0], x[-1], 50)\n",
    "yl_n = fl(xl_n)"
   ]
  },
  {
   "cell_type": "code",
   "execution_count": 21,
   "metadata": {},
   "outputs": [
    {
     "data": {
      "text/plain": [
       "'0.6x³ -11.75x² + 64.24x - 62.24'"
      ]
     },
     "execution_count": 21,
     "metadata": {},
     "output_type": "execute_result"
    }
   ],
   "source": [
    "x3 = str(float(\"{:.2f}\".format(fl[3]))) + 'x' + '\\N{SUPERSCRIPT THREE}'\n",
    "x2 = str(float(\"{:.2f}\".format(fl[2]))) + 'x' +'\\N{SUPERSCRIPT TWO}'\n",
    "x1 = str(float(\"{:.2f}\".format(fl[1]))) + 'x'\n",
    "x0 = str(float(\"{:.2f}\".format(fl[0])))\n",
    "if fl[2]>0: x2= '+ '+x2\n",
    "if fl[1]>0: x1= '+ '+x1\n",
    "if fl[0]>0: x0= '+ '+x0\n",
    "else: x0 = '- '+x0\n",
    "fl_equ = f'{x3} {x2} {x1} {x0}'\n",
    "\n",
    "x3 = str(float(\"{:.2f}\".format(fw[3]))) + 'x' + '\\N{SUPERSCRIPT THREE}'\n",
    "x2 = str(float(\"{:.2f}\".format(fw[2]))) + 'x' +'\\N{SUPERSCRIPT TWO}'\n",
    "x1 = str(float(\"{:.2f}\".format(fw[1]))) + 'x'\n",
    "x0 = str(float(\"{:.2f}\".format(fl[0])))\n",
    "if fw[2]>0: x2= '+ '+x2\n",
    "if fw[1]>0: x1= '+ '+x1\n",
    "if fw[0]>0: x0= '+ '+x0 \n",
    "else: x0 = '- '+x0\n",
    "fw_equ = f'{x3} {x2} {x1} {x0}'\n",
    "fw_equ\n"
   ]
  },
  {
   "cell_type": "code",
   "execution_count": 22,
   "metadata": {},
   "outputs": [
    {
     "data": {
      "image/png": "[encoded data removed]",
      "text/plain": [
       "<Figure size 640x480 with 1 Axes>"
      ]
     },
     "metadata": {},
     "output_type": "display_data"
    }
   ],
   "source": [
    "plt.scatter(x, yw, color = 'green', label = 'Wins')\n",
    "plt.scatter(x, yl, color = 'red', label = 'Losses')\n",
    "plt.plot(xw_n, yw_n, color = 'green', label = fw_equ)\n",
    "plt.plot(xl_n, yl_n, color = 'red', label = fl_equ)\n",
    "plt.title('Win / Loss Goals')\n",
    "plt.xlabel('Goals')\n",
    "plt.ylabel('Frequency')\n",
    "plt.legend()\n",
    "plt.show()"
   ]
  },
  {
   "cell_type": "code",
   "execution_count": null,
   "metadata": {},
   "outputs": [],
   "source": []
  },
  {
   "cell_type": "code",
   "execution_count": 23,
   "metadata": {},
   "outputs": [
    {
     "name": "stderr",
     "output_type": "stream",
     "text": [
      "/var/folders/w8/tgwf_kks31b4n340v9tt6m6r0000gn/T/ipykernel_50863/3712979072.py:8: FutureWarning: Series.__getitem__ treating keys as positions is deprecated. In a future version, integer keys will always be treated as labels (consistent with DataFrame behavior). To access a value by position, use `ser.iloc[pos]`\n",
      "  wins = x[0]\n",
      "/var/folders/w8/tgwf_kks31b4n340v9tt6m6r0000gn/T/ipykernel_50863/3712979072.py:9: FutureWarning: Series.__getitem__ treating keys as positions is deprecated. In a future version, integer keys will always be treated as labels (consistent with DataFrame behavior). To access a value by position, use `ser.iloc[pos]`\n",
      "  loss = x[1]\n",
      "/var/folders/w8/tgwf_kks31b4n340v9tt6m6r0000gn/T/ipykernel_50863/3712979072.py:2: FutureWarning: Series.__getitem__ treating keys as positions is deprecated. In a future version, integer keys will always be treated as labels (consistent with DataFrame behavior). To access a value by position, use `ser.iloc[pos]`\n",
      "  wins = x[0]\n",
      "/var/folders/w8/tgwf_kks31b4n340v9tt6m6r0000gn/T/ipykernel_50863/3712979072.py:3: FutureWarning: Series.__getitem__ treating keys as positions is deprecated. In a future version, integer keys will always be treated as labels (consistent with DataFrame behavior). To access a value by position, use `ser.iloc[pos]`\n",
      "  loss = x[1]\n"
     ]
    },
    {
     "data": {
      "text/html": [
       "<div>\n",
       "<style scoped>\n",
       "    .dataframe tbody tr th:only-of-type {\n",
       "        vertical-align: middle;\n",
       "    }\n",
       "\n",
       "    .dataframe tbody tr th {\n",
       "        vertical-align: top;\n",
       "    }\n",
       "\n",
       "    .dataframe thead th {\n",
       "        text-align: right;\n",
       "    }\n",
       "</style>\n",
       "<table border=\"1\" class=\"dataframe\">\n",
       "  <thead>\n",
       "    <tr style=\"text-align: right;\">\n",
       "      <th></th>\n",
       "      <th>wins</th>\n",
       "      <th>losses</th>\n",
       "      <th>win%</th>\n",
       "      <th>loss%</th>\n",
       "    </tr>\n",
       "    <tr>\n",
       "      <th>numberOfGoals</th>\n",
       "      <th></th>\n",
       "      <th></th>\n",
       "      <th></th>\n",
       "      <th></th>\n",
       "    </tr>\n",
       "  </thead>\n",
       "  <tbody>\n",
       "    <tr>\n",
       "      <th>1</th>\n",
       "      <td>2</td>\n",
       "      <td>46</td>\n",
       "      <td>4.17</td>\n",
       "      <td>95.83</td>\n",
       "    </tr>\n",
       "    <tr>\n",
       "      <th>2</th>\n",
       "      <td>8</td>\n",
       "      <td>70</td>\n",
       "      <td>10.26</td>\n",
       "      <td>89.74</td>\n",
       "    </tr>\n",
       "    <tr>\n",
       "      <th>3</th>\n",
       "      <td>46</td>\n",
       "      <td>53</td>\n",
       "      <td>46.46</td>\n",
       "      <td>53.54</td>\n",
       "    </tr>\n",
       "    <tr>\n",
       "      <th>4</th>\n",
       "      <td>67</td>\n",
       "      <td>1</td>\n",
       "      <td>98.53</td>\n",
       "      <td>1.47</td>\n",
       "    </tr>\n",
       "    <tr>\n",
       "      <th>5</th>\n",
       "      <td>50</td>\n",
       "      <td>21</td>\n",
       "      <td>70.42</td>\n",
       "      <td>29.58</td>\n",
       "    </tr>\n",
       "    <tr>\n",
       "      <th>6</th>\n",
       "      <td>14</td>\n",
       "      <td>0</td>\n",
       "      <td>100.00</td>\n",
       "      <td>0.00</td>\n",
       "    </tr>\n",
       "    <tr>\n",
       "      <th>7</th>\n",
       "      <td>5</td>\n",
       "      <td>5</td>\n",
       "      <td>50.00</td>\n",
       "      <td>50.00</td>\n",
       "    </tr>\n",
       "    <tr>\n",
       "      <th>8</th>\n",
       "      <td>27</td>\n",
       "      <td>0</td>\n",
       "      <td>100.00</td>\n",
       "      <td>0.00</td>\n",
       "    </tr>\n",
       "    <tr>\n",
       "      <th>10</th>\n",
       "      <td>1</td>\n",
       "      <td>0</td>\n",
       "      <td>100.00</td>\n",
       "      <td>0.00</td>\n",
       "    </tr>\n",
       "  </tbody>\n",
       "</table>\n",
       "</div>"
      ],
      "text/plain": [
       "               wins  losses    win%  loss%\n",
       "numberOfGoals                             \n",
       "1                 2      46    4.17  95.83\n",
       "2                 8      70   10.26  89.74\n",
       "3                46      53   46.46  53.54\n",
       "4                67       1   98.53   1.47\n",
       "5                50      21   70.42  29.58\n",
       "6                14       0  100.00   0.00\n",
       "7                 5       5   50.00  50.00\n",
       "8                27       0  100.00   0.00\n",
       "10                1       0  100.00   0.00"
      ]
     },
     "execution_count": 23,
     "metadata": {},
     "output_type": "execute_result"
    }
   ],
   "source": [
    "def lossPercentage(x):\n",
    "    wins = x[0]\n",
    "    loss = x[1]\n",
    "    total = wins + loss\n",
    "    percent = (float(\"{:.2f}\".format(loss * (100/total))))\n",
    "    return percent\n",
    "def winPercentage(x):\n",
    "    wins = x[0]\n",
    "    loss = x[1]\n",
    "    total = wins + loss\n",
    "    percent = (float(\"{:.2f}\".format(wins * (100/total))))\n",
    "    return percent\n",
    "    \n",
    "gdf['win%'] = gdf[['wins','losses']].apply(winPercentage, axis=1)\n",
    "gdf['loss%'] = gdf[['wins','losses']].apply(lossPercentage, axis=1)\n",
    "gdf"
   ]
  },
  {
   "cell_type": "code",
   "execution_count": 24,
   "metadata": {},
   "outputs": [],
   "source": [
    "polyDegrees = 3\n",
    "\n",
    "\n",
    "xp = gdf.index\n",
    "ywp =  gdf['win%']\n",
    "ylp = gdf['loss%']\n",
    "\n",
    "zwp = np.polyfit(xp, ywp, polyDegrees)\n",
    "fwp = np.poly1d(zwp)\n",
    "xwp_n = np.linspace(xp[0], xp[-1], 50)\n",
    "ywp_n = fwp(xwp_n)\n",
    "\n",
    "zlp = np.polyfit(xp, ylp, polyDegrees)\n",
    "flp = np.poly1d(zlp)\n",
    "xlp_n = np.linspace(xp[0], xp[-1], 50)\n",
    "ylp_n = flp(xlp_n)\n"
   ]
  },
  {
   "cell_type": "code",
   "execution_count": 25,
   "metadata": {},
   "outputs": [
    {
     "data": {
      "image/png": "[encoded data removed]",
      "text/plain": [
       "<Figure size 640x480 with 1 Axes>"
      ]
     },
     "metadata": {},
     "output_type": "display_data"
    }
   ],
   "source": [
    "plt.scatter(xp, ywp, color = 'green', label = 'Win %')\n",
    "plt.scatter(xp, ylp, color = 'red', label = 'Loss %')\n",
    "plt.plot(xwp_n, ywp_n, color = 'green')\n",
    "plt.plot(xlp_n, ylp_n, color = 'red')\n",
    "plt.title('Win / Loss %')\n",
    "plt.xlabel(\"Goals\")\n",
    "plt.ylabel('Win Percentage')\n",
    "plt.legend()\n",
    "plt.show()"
   ]
  },
  {
   "cell_type": "code",
   "execution_count": 26,
   "metadata": {},
   "outputs": [
    {
     "name": "stdout",
     "output_type": "stream",
     "text": [
      "Losses over 3 goals scored\n",
      "goals\n",
      "4    21\n",
      "5     5\n",
      "7     1\n",
      "Name: count, dtype: int64\n"
     ]
    }
   ],
   "source": [
    "print('Losses over 3 goals scored')\n",
    "losses = (df.loc[(df['goals'] > 3)])\n",
    "losses = (losses.loc[losses['win'] == 'loss'])\n",
    "losses = losses['goals'].value_counts()\n",
    "print(losses)"
   ]
  }
 ],
 "metadata": {
  "kernelspec": {
   "display_name": "Python 3",
   "language": "python",
   "name": "python3"
  },
  "language_info": {
   "codemirror_mode": {
    "name": "ipython",
    "version": 3
   },
   "file_extension": ".py",
   "mimetype": "text/x-python",
   "name": "python",
   "nbconvert_exporter": "python",
   "pygments_lexer": "ipython3",
   "version": "3.11.6"
  }
 },
 "nbformat": 4,
 "nbformat_minor": 2
}
