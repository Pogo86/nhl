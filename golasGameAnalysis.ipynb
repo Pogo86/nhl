{
 "cells": [
  {
   "cell_type": "code",
   "execution_count": 317,
   "metadata": {},
   "outputs": [],
   "source": [
    "import pandas as pd\n",
    "import numpy as np\n",
    "import matplotlib.pyplot as plt\n",
    "from sklearn.linear_model import LinearRegression"
   ]
  },
  {
   "cell_type": "code",
   "execution_count": 318,
   "metadata": {},
   "outputs": [
    {
     "data": {
      "text/html": [
       "<div>\n",
       "<style scoped>\n",
       "    .dataframe tbody tr th:only-of-type {\n",
       "        vertical-align: middle;\n",
       "    }\n",
       "\n",
       "    .dataframe tbody tr th {\n",
       "        vertical-align: top;\n",
       "    }\n",
       "\n",
       "    .dataframe thead th {\n",
       "        text-align: right;\n",
       "    }\n",
       "</style>\n",
       "<table border=\"1\" class=\"dataframe\">\n",
       "  <thead>\n",
       "    <tr style=\"text-align: right;\">\n",
       "      <th></th>\n",
       "      <th>gameDate</th>\n",
       "      <th>teamID</th>\n",
       "      <th>goals</th>\n",
       "      <th>winner</th>\n",
       "    </tr>\n",
       "    <tr>\n",
       "      <th>gameID</th>\n",
       "      <th></th>\n",
       "      <th></th>\n",
       "      <th></th>\n",
       "      <th></th>\n",
       "    </tr>\n",
       "  </thead>\n",
       "  <tbody>\n",
       "    <tr>\n",
       "      <th>20231010CHI@PIT</th>\n",
       "      <td>2023-10-10</td>\n",
       "      <td>CHI</td>\n",
       "      <td>4</td>\n",
       "      <td>CHI</td>\n",
       "    </tr>\n",
       "    <tr>\n",
       "      <th>20231010CHI@PIT</th>\n",
       "      <td>2023-10-10</td>\n",
       "      <td>PIT</td>\n",
       "      <td>2</td>\n",
       "      <td>CHI</td>\n",
       "    </tr>\n",
       "    <tr>\n",
       "      <th>20231010NSH@TB</th>\n",
       "      <td>2023-10-10</td>\n",
       "      <td>NSH</td>\n",
       "      <td>3</td>\n",
       "      <td>TB</td>\n",
       "    </tr>\n",
       "    <tr>\n",
       "      <th>20231010NSH@TB</th>\n",
       "      <td>2023-10-10</td>\n",
       "      <td>TB</td>\n",
       "      <td>5</td>\n",
       "      <td>TB</td>\n",
       "    </tr>\n",
       "    <tr>\n",
       "      <th>20231010SEA@VGK</th>\n",
       "      <td>2023-10-10</td>\n",
       "      <td>LV</td>\n",
       "      <td>4</td>\n",
       "      <td>LV</td>\n",
       "    </tr>\n",
       "    <tr>\n",
       "      <th>...</th>\n",
       "      <td>...</td>\n",
       "      <td>...</td>\n",
       "      <td>...</td>\n",
       "      <td>...</td>\n",
       "    </tr>\n",
       "    <tr>\n",
       "      <th>20231104TB@OTT</th>\n",
       "      <td>2023-11-04</td>\n",
       "      <td>TB</td>\n",
       "      <td>6</td>\n",
       "      <td>TB</td>\n",
       "    </tr>\n",
       "    <tr>\n",
       "      <th>20231104WPG@ARI</th>\n",
       "      <td>2023-11-04</td>\n",
       "      <td>ARI</td>\n",
       "      <td>3</td>\n",
       "      <td>WPG</td>\n",
       "    </tr>\n",
       "    <tr>\n",
       "      <th>20231104WPG@ARI</th>\n",
       "      <td>2023-11-04</td>\n",
       "      <td>WPG</td>\n",
       "      <td>5</td>\n",
       "      <td>WPG</td>\n",
       "    </tr>\n",
       "    <tr>\n",
       "      <th>20231105NJ@CHI</th>\n",
       "      <td>2023-11-05</td>\n",
       "      <td>CHI</td>\n",
       "      <td>2</td>\n",
       "      <td>NJ</td>\n",
       "    </tr>\n",
       "    <tr>\n",
       "      <th>20231105NJ@CHI</th>\n",
       "      <td>2023-11-05</td>\n",
       "      <td>NJ</td>\n",
       "      <td>4</td>\n",
       "      <td>NJ</td>\n",
       "    </tr>\n",
       "  </tbody>\n",
       "</table>\n",
       "<p>304 rows × 4 columns</p>\n",
       "</div>"
      ],
      "text/plain": [
       "                  gameDate teamID  goals winner\n",
       "gameID                                         \n",
       "20231010CHI@PIT 2023-10-10    CHI      4    CHI\n",
       "20231010CHI@PIT 2023-10-10    PIT      2    CHI\n",
       "20231010NSH@TB  2023-10-10    NSH      3     TB\n",
       "20231010NSH@TB  2023-10-10     TB      5     TB\n",
       "20231010SEA@VGK 2023-10-10     LV      4     LV\n",
       "...                    ...    ...    ...    ...\n",
       "20231104TB@OTT  2023-11-04     TB      6     TB\n",
       "20231104WPG@ARI 2023-11-04    ARI      3    WPG\n",
       "20231104WPG@ARI 2023-11-04    WPG      5    WPG\n",
       "20231105NJ@CHI  2023-11-05    CHI      2     NJ\n",
       "20231105NJ@CHI  2023-11-05     NJ      4     NJ\n",
       "\n",
       "[304 rows x 4 columns]"
      ]
     },
     "execution_count": 318,
     "metadata": {},
     "output_type": "execute_result"
    }
   ],
   "source": [
    "df = pd.read_csv('_SELECT_DISTINCT_gl_gameID_gl_goalDate_as_gameDate_gl_teamID_cou.csv')\n",
    "df['gameDate'] = pd.to_datetime(df['gameDate'], format='%Y-%m-%d')\n",
    "df = df.set_index('gameID')\n",
    "df"
   ]
  },
  {
   "cell_type": "code",
   "execution_count": 319,
   "metadata": {},
   "outputs": [],
   "source": [
    "def winner(x):\n",
    "    if x[0] == x[1]: return 'winner'\n",
    "    else: return 'loss'"
   ]
  },
  {
   "cell_type": "code",
   "execution_count": 320,
   "metadata": {},
   "outputs": [
    {
     "name": "stderr",
     "output_type": "stream",
     "text": [
      "/var/folders/w8/tgwf_kks31b4n340v9tt6m6r0000gn/T/ipykernel_30187/1930560119.py:2: FutureWarning: Series.__getitem__ treating keys as positions is deprecated. In a future version, integer keys will always be treated as labels (consistent with DataFrame behavior). To access a value by position, use `ser.iloc[pos]`\n",
      "  if x[0] == x[1]: return 'winner'\n"
     ]
    }
   ],
   "source": [
    "df['win'] = df[['teamID','winner']].apply(winner, axis=1)"
   ]
  },
  {
   "cell_type": "code",
   "execution_count": 321,
   "metadata": {},
   "outputs": [],
   "source": [
    "df = df.drop('winner', axis=1)"
   ]
  },
  {
   "cell_type": "code",
   "execution_count": 322,
   "metadata": {},
   "outputs": [],
   "source": [
    "avgWin = df.loc[df['win'] == 'winner']['goals'].mean()\n",
    "avgLoss = df.loc[df['win'] == 'loss']['goals'].mean()"
   ]
  },
  {
   "cell_type": "code",
   "execution_count": 323,
   "metadata": {},
   "outputs": [],
   "source": [
    "x = df.loc[df['win'] == 'winner']['goals'].unique()\n",
    "y = df.loc[df['win'] == 'winner']['goals'].value_counts()\n",
    "y = np.array(y)\n",
    "\n",
    "wdf = pd.DataFrame({'numberOfGoals':x, 'wins':y})\n",
    "wdf = wdf.set_index('numberOfGoals')\n",
    "\n",
    "\n",
    "\n",
    "\n",
    "x1 = df.loc[df['win'] == 'loss']['goals'].unique()\n",
    "y1 = df.loc[df['win'] == 'loss']['goals'].value_counts()\n",
    "\n",
    "ldf = pd.DataFrame({'numberOfGoals':x1, 'losses':y1})\n",
    "ldf = ldf.set_index('numberOfGoals')\n",
    "\n",
    "gdf = pd.merge(wdf, ldf, how='outer', on='numberOfGoals' )\n"
   ]
  },
  {
   "cell_type": "code",
   "execution_count": 324,
   "metadata": {},
   "outputs": [
    {
     "data": {
      "text/html": [
       "<div>\n",
       "<style scoped>\n",
       "    .dataframe tbody tr th:only-of-type {\n",
       "        vertical-align: middle;\n",
       "    }\n",
       "\n",
       "    .dataframe tbody tr th {\n",
       "        vertical-align: top;\n",
       "    }\n",
       "\n",
       "    .dataframe thead th {\n",
       "        text-align: right;\n",
       "    }\n",
       "</style>\n",
       "<table border=\"1\" class=\"dataframe\">\n",
       "  <thead>\n",
       "    <tr style=\"text-align: right;\">\n",
       "      <th></th>\n",
       "      <th>wins</th>\n",
       "      <th>losses</th>\n",
       "    </tr>\n",
       "    <tr>\n",
       "      <th>numberOfGoals</th>\n",
       "      <th></th>\n",
       "      <th></th>\n",
       "    </tr>\n",
       "  </thead>\n",
       "  <tbody>\n",
       "    <tr>\n",
       "      <th>1</th>\n",
       "      <td>2</td>\n",
       "      <td>34</td>\n",
       "    </tr>\n",
       "    <tr>\n",
       "      <th>2</th>\n",
       "      <td>6</td>\n",
       "      <td>47</td>\n",
       "    </tr>\n",
       "    <tr>\n",
       "      <th>3</th>\n",
       "      <td>35</td>\n",
       "      <td>39</td>\n",
       "    </tr>\n",
       "    <tr>\n",
       "      <th>4</th>\n",
       "      <td>46</td>\n",
       "      <td>1</td>\n",
       "    </tr>\n",
       "    <tr>\n",
       "      <th>5</th>\n",
       "      <td>38</td>\n",
       "      <td>19</td>\n",
       "    </tr>\n",
       "    <tr>\n",
       "      <th>6</th>\n",
       "      <td>11</td>\n",
       "      <td>0</td>\n",
       "    </tr>\n",
       "    <tr>\n",
       "      <th>7</th>\n",
       "      <td>3</td>\n",
       "      <td>2</td>\n",
       "    </tr>\n",
       "    <tr>\n",
       "      <th>8</th>\n",
       "      <td>20</td>\n",
       "      <td>0</td>\n",
       "    </tr>\n",
       "    <tr>\n",
       "      <th>10</th>\n",
       "      <td>1</td>\n",
       "      <td>0</td>\n",
       "    </tr>\n",
       "  </tbody>\n",
       "</table>\n",
       "</div>"
      ],
      "text/plain": [
       "               wins  losses\n",
       "numberOfGoals              \n",
       "1                 2      34\n",
       "2                 6      47\n",
       "3                35      39\n",
       "4                46       1\n",
       "5                38      19\n",
       "6                11       0\n",
       "7                 3       2\n",
       "8                20       0\n",
       "10                1       0"
      ]
     },
     "execution_count": 324,
     "metadata": {},
     "output_type": "execute_result"
    }
   ],
   "source": [
    "gdf = gdf.replace(np.nan,0)\n",
    "gdf.losses = gdf.losses.astype(int)\n",
    "gdf = gdf.sort_index()\n",
    "gdf"
   ]
  },
  {
   "cell_type": "code",
   "execution_count": 325,
   "metadata": {},
   "outputs": [],
   "source": [
    "x = gdf.index\n",
    "yw =  gdf['wins']\n",
    "yl = gdf['losses']"
   ]
  },
  {
   "cell_type": "code",
   "execution_count": 326,
   "metadata": {},
   "outputs": [],
   "source": [
    "polyDegrees = 3"
   ]
  },
  {
   "cell_type": "code",
   "execution_count": 327,
   "metadata": {},
   "outputs": [],
   "source": [
    "zw = np.polyfit(x, yw, polyDegrees)\n",
    "fw = np.poly1d(zw)\n",
    "xw_n = np.linspace(x[0], x[-1], 50)\n",
    "yw_n = fw(xw_n)"
   ]
  },
  {
   "cell_type": "code",
   "execution_count": 328,
   "metadata": {},
   "outputs": [],
   "source": [
    "zl = np.polyfit(x, yl, polyDegrees)\n",
    "fl = np.poly1d(zl)\n",
    "xl_n = np.linspace(x[0], x[-1], 50)\n",
    "yl_n = fl(xl_n)"
   ]
  },
  {
   "cell_type": "code",
   "execution_count": 332,
   "metadata": {},
   "outputs": [
    {
     "data": {
      "text/plain": [
       "'0.43x³ -8.45x² + 46.14x 42.78'"
      ]
     },
     "execution_count": 332,
     "metadata": {},
     "output_type": "execute_result"
    }
   ],
   "source": [
    "x3 = str(float(\"{:.2f}\".format(fl[3]))) + 'x' + '\\N{SUPERSCRIPT THREE}'\n",
    "x2 = str(float(\"{:.2f}\".format(fl[2]))) + 'x' +'\\N{SUPERSCRIPT TWO}'\n",
    "x1 = str(float(\"{:.2f}\".format(fl[1]))) + 'x'\n",
    "x0 = str(float(\"{:.2f}\".format(fl[0])))\n",
    "if fl[2]>0: x2= '+ '+x2\n",
    "if fl[1]>0: x1= '+ '+x1\n",
    "if fl[0]>0: x0= '+ '+x0\n",
    "fl_equ = f'{x3} {x2} {x1} {x0}'\n",
    "\n",
    "x3 = str(float(\"{:.2f}\".format(fw[3]))) + 'x' + '\\N{SUPERSCRIPT THREE}'\n",
    "x2 = str(float(\"{:.2f}\".format(fw[2]))) + 'x' +'\\N{SUPERSCRIPT TWO}'\n",
    "x1 = str(float(\"{:.2f}\".format(fw[1]))) + 'x'\n",
    "x0 = str(float(\"{:.2f}\".format(fl[0])))\n",
    "if fw[2]>0: x2= '+ '+x2\n",
    "if fw[1]>0: x1= '+ '+x1\n",
    "if fw[0]>0: x0= '+ '+x0\n",
    "fw_equ = f'{x3} {x2} {x1} {x0}'\n",
    "fw_equ"
   ]
  },
  {
   "cell_type": "code",
   "execution_count": 336,
   "metadata": {},
   "outputs": [
    {
     "data": {
      "image/png": "[encoded data removed]",
      "text/plain": [
       "<Figure size 640x480 with 1 Axes>"
      ]
     },
     "metadata": {},
     "output_type": "display_data"
    }
   ],
   "source": [
    "#plt.scatter(x, y, color='green')\n",
    "plt.scatter(x, yw, color = 'green', label = 'Wins')\n",
    "plt.scatter(x, yl, color = 'red', label = 'Losses')\n",
    "plt.plot(xw_n, yw_n, color = 'green', label = fw_equ)\n",
    "plt.plot(xl_n, yl_n, color = 'red', label = fl_equ)\n",
    "plt.title('Win / Loss Goals')\n",
    "plt.ylabel('Number of Goals')\n",
    "plt.legend()\n",
    "plt.show()"
   ]
  }
 ],
 "metadata": {
  "kernelspec": {
   "display_name": "Python 3",
   "language": "python",
   "name": "python3"
  },
  "language_info": {
   "codemirror_mode": {
    "name": "ipython",
    "version": 3
   },
   "file_extension": ".py",
   "mimetype": "text/x-python",
   "name": "python",
   "nbconvert_exporter": "python",
   "pygments_lexer": "ipython3",
   "version": "3.11.6"
  }
 },
 "nbformat": 4,
 "nbformat_minor": 2
}
