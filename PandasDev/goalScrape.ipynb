{
 "cells": [
  {
   "cell_type": "code",
   "execution_count": 123,
   "metadata": {},
   "outputs": [],
   "source": [
    "import pandas as pd\n",
    "import requests\n",
    "import numpy as np\n",
    "import random\n",
    "import re\n",
    "from bs4 import BeautifulSoup as bs"
   ]
  },
  {
   "cell_type": "code",
   "execution_count": 124,
   "metadata": {},
   "outputs": [],
   "source": [
    "teams = {\n",
    "    'Boston' : 'BOS',\n",
    "    'Buffalo' : 'BUF',\n",
    "    'Detroit' : 'DET',\n",
    "    'Florida' : 'FLA',\n",
    "    'Montreal' : 'MON',\n",
    "    'Ottawa' : 'OTT',\n",
    "    'Tampa Bay' :  'TB',\n",
    "    'Toronto' : 'TOR',\n",
    "    'Arizona' : 'ARI',\n",
    "    'Chicago' : 'CHI',\n",
    "    'Colorado' : 'COL',\n",
    "    'Dallas' : 'DAL',\n",
    "    'Minnesota' : 'MIN',\n",
    "    'Nashville' : 'NSH',\n",
    "    'St. Louis' : 'STL',\n",
    "    'Winnipeg' : 'WPG',\n",
    "    'Carolina' : 'CAR',\n",
    "    'Columbus' : 'CLB',\n",
    "    'N.Y. Islanders' : 'NYI',\n",
    "    'N.Y. Rangers' : 'NYR',\n",
    "    'New Jersey' :  'NJ',\n",
    "    'Philadelphia' : 'PHI',\n",
    "    'Pittsburgh' : 'PIT',\n",
    "    'Washington' : 'WAS',\n",
    "    'Anaheim' : 'ANA',\n",
    "    'Calgary' : 'CGY',\n",
    "    'Edmonton' : 'EDM',\n",
    "    'Los Angeles' :  'LA',\n",
    "    'San Jose' :  'SJ',\n",
    "    'Seattle' : 'SEA',\n",
    "    'Vancouver' : 'VAN',\n",
    "    'Vegas' : 'VGK'\n",
    "}\n"
   ]
  },
  {
   "cell_type": "code",
   "execution_count": 125,
   "metadata": {},
   "outputs": [],
   "source": [
    "def rendomHeader():\n",
    "    user_agents = [\n",
    "    'Mozilla/5.0 (Windows NT 10.0; Win64; x64) AppleWebKit/537.36 (KHTML, like Gecko) Chrome/109.0.0.0 Safari/537.36',\n",
    "    'Mozilla/5.0 (Macintosh; Intel Mac OS X 10_15_7) AppleWebKit/537.36 (KHTML, like Gecko) Chrome/109.0.0.0 Safari/537.36',\n",
    "    'Mozilla/5.0 (Windows NT 10.0; Win64; x64) AppleWebKit/537.36 (KHTML, like Gecko) Chrome/108.0.0.0 Safari/537.36',\n",
    "    'Mozilla/5.0 (Macintosh; Intel Mac OS X 10_15_7) AppleWebKit/537.36 (KHTML, like Gecko) Chrome/108.0.0.0 Safari/537.36',\n",
    "    'Mozilla/5.0 (X11; Linux x86_64) AppleWebKit/537.36 (KHTML, like Gecko) Chrome/108.0.0.0 Safari/537.36',\n",
    "    'Mozilla/5.0 (Macintosh; Intel Mac OS X 10_15_7) AppleWebKit/605.1.15 (KHTML, like Gecko) Version/16.1 Safari/605.1.15',\n",
    "    'Mozilla/5.0 (Macintosh; Intel Mac OS X 13_1) AppleWebKit/605.1.15 (KHTML, like Gecko) Version/16.1 Safari/605.1.15',\n",
    "    ]\n",
    "    return random.choice(user_agents)\n",
    "    "
   ]
  },
  {
   "cell_type": "code",
   "execution_count": 126,
   "metadata": {},
   "outputs": [],
   "source": [
    "#takes a start date and end dates and returns an array of urls for the play by play for each game in the time frame\n",
    "def getGames(startDate, endDate):\n",
    "    tempDate = startDate\n",
    "    urls = []\n",
    "    while tempDate <= endDate:\n",
    "        url = f'https://www.cbssports.com/nhl/schedule/{tempDate}'\n",
    "        headers = {'User-Agent': rendomHeader()}\n",
    "        page = requests.get(url, headers=headers)\n",
    "        playbyURL = f'https://www.cbssports.com/nhl/gametracker/playbyplay/NHL_{tempDate}_'\n",
    "\n",
    "        soup = bs(page.content, 'html.parser')\n",
    "\n",
    "        games = soup.findAll('span', class_ = 'TeamName')\n",
    "        count = 0\n",
    "        while count < len(games):\n",
    "            game = f'{teams[games[count].text]}@{teams[games[count+1].text]}'\n",
    "            urls.append([f'{playbyURL}{game}/',tempDate])\n",
    "            count+=2\n",
    "        tempDate+=1\n",
    "    return urls\n"
   ]
  },
  {
   "cell_type": "code",
   "execution_count": 132,
   "metadata": {},
   "outputs": [],
   "source": [
    "def getAssists(text):\n",
    "    if len(text) == 1: return ['None', 'None']\n",
    "    if '), ' in text[1]:\n",
    "        #is an assist\n",
    "        if 'Assist:' in text[1]:\n",
    "            a1 = text[1].split('Assist: ')\n",
    "            return [a1[1], 'None']\n",
    "        else:\n",
    "            ass = text[1].split('Assists: ')[1]\n",
    "            ass = ass.split(' and ')\n",
    "            a1 = ass[0]\n",
    "            a2 = ass[1]\n",
    "            return[a1,a2]\n",
    "    else:\n",
    "        return ['None', 'None']\n"
   ]
  },
  {
   "cell_type": "code",
   "execution_count": 128,
   "metadata": {},
   "outputs": [],
   "source": [
    "def getGoalStats(game, gameDate, url):\n",
    "    redTextGoal = game.find_all('span', class_='gametracker-row__item-red')\n",
    "    goalCount = len(redTextGoal)\n",
    "    goals = [] #list of all the goals scored\n",
    "    for goal in redTextGoal:\n",
    "        teams = url[-8:].replace('/','').replace('_','')#gets team ids from URL\n",
    "        gameID = f'{gameDate}{teams}'\n",
    "        p = goal.parent.parent.parent.parent.text[:3] #period the goal took place\n",
    "        time = goal.previous_sibling.text #time goal was scored\n",
    "        teamID = goal.previous_sibling.previous_sibling.text #the team ID\n",
    "\n",
    "        if ' (' in goal.text:\n",
    "            line = goal.text.split(' (')\n",
    "        else:\n",
    "            line = goal.text.split(' ,')\n",
    "            \n",
    "        scorer = line[0][5:]\n",
    "        #the try section determins if there was any assists to the goal\n",
    "\n",
    "        assists = getAssists(line)\n",
    "        goalID = f'{gameDate}{time}{teamID}{goalCount}'\n",
    "        goals.append([goalID, teamID, p, time, gameDate, scorer, assists,gameID])\n",
    "        goalCount-=1\n",
    "    return goals"
   ]
  },
  {
   "cell_type": "code",
   "execution_count": 133,
   "metadata": {},
   "outputs": [
    {
     "name": "stdout",
     "output_type": "stream",
     "text": [
      "20231010\n",
      "20231011\n",
      "20231012\n",
      "20231013\n",
      "20231014\n",
      "20231015\n",
      "20231016\n",
      "20231017\n",
      "20231018\n",
      "20231019\n",
      "20231020\n",
      "20231021\n",
      "20231022\n",
      "20231023\n",
      "20231024\n",
      "20231025\n"
     ]
    }
   ],
   "source": [
    "firstDate = 20231010\n",
    "lastDate = 20231025\n",
    "\n",
    "gameURLs = getGames(firstDate, lastDate)\n",
    "\n",
    "allGoals = []\n",
    "for url in gameURLs:\n",
    "    headers = {'User-Agent': rendomHeader()}\n",
    "    playbyplay = bs((requests.get(url[0], headers=headers)).content, 'html.parser')\n",
    "    allGoals = allGoals + (getGoalStats(playbyplay,url[1],url[0]))\n"
   ]
  },
  {
   "cell_type": "code",
   "execution_count": 173,
   "metadata": {},
   "outputs": [],
   "source": [
    "df = pd.DataFrame(allGoals)\n",
    "df = df.rename(columns={0:'goalID', 1:'teamID', 2:'period', 3:'goalTime', 4:'goalDate', 5:'scorer', 6:'assists', 7:'gameID'})\n",
    "df['goalDate'] = pd.to_datetime(df['goalDate'], format='%Y%m%d')"
   ]
  },
  {
   "cell_type": "code",
   "execution_count": 174,
   "metadata": {},
   "outputs": [],
   "source": [
    "split = pd.DataFrame(df['assists'].to_list(), columns=['assist1', 'assist2'])\n",
    "df = pd.concat([df, split], axis=1)\n",
    "df = df.drop(['assists'], axis=1)\n",
    "df = df.set_index(['goalID'])"
   ]
  },
  {
   "cell_type": "code",
   "execution_count": 175,
   "metadata": {},
   "outputs": [],
   "source": [
    "def correctTime(time):\n",
    "    if ':' in time: return time\n",
    "    else: return f'00:{time[:2]}'\n",
    "    \n",
    "def calculateSeconds(time):\n",
    "    split = time.split(':')\n",
    "    mins = int(split[0]) * 60\n",
    "    secs = int(split[1])\n",
    "    return mins+secs\n",
    "\n",
    "def periodTime(period):\n",
    "    if period == '1ST': return 0\n",
    "    if period == '2ND': return (20*60)\n",
    "    if period == '3RD': return (40*60)\n",
    "    if period == 'OVE': return (60*60)\n",
    "    if period == 'SHO': return (65*60)"
   ]
  },
  {
   "cell_type": "code",
   "execution_count": 176,
   "metadata": {},
   "outputs": [],
   "source": [
    "df['goalTime'] = df['goalTime'].apply(correctTime) #converts time given in seconds to mins"
   ]
  },
  {
   "cell_type": "code",
   "execution_count": 177,
   "metadata": {},
   "outputs": [],
   "source": [
    "df['seconds'] = df['goalTime'].apply(calculateSeconds)\n",
    "df['periodTime'] = df['period'].apply(periodTime)\n",
    "df['seconds'] = df['seconds'] + df['periodTime']\n",
    "df = df.drop('periodTime', axis=1)"
   ]
  },
  {
   "cell_type": "code",
   "execution_count": 171,
   "metadata": {},
   "outputs": [],
   "source": [
    "df.to_csv(f'{firstDate}-{lastDate}_goals.csv')"
   ]
  }
 ],
 "metadata": {
  "kernelspec": {
   "display_name": "Python 3",
   "language": "python",
   "name": "python3"
  },
  "language_info": {
   "codemirror_mode": {
    "name": "ipython",
    "version": 3
   },
   "file_extension": ".py",
   "mimetype": "text/x-python",
   "name": "python",
   "nbconvert_exporter": "python",
   "pygments_lexer": "ipython3",
   "version": "3.10.0"
  }
 },
 "nbformat": 4,
 "nbformat_minor": 2
}
