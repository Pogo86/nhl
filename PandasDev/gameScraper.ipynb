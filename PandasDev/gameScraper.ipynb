{
 "cells": [
  {
   "cell_type": "code",
   "execution_count": 5,
   "metadata": {},
   "outputs": [],
   "source": [
    "import pandas as pd\n",
    "import requests\n",
    "from bs4 import BeautifulSoup as bs\n",
    "import random"
   ]
  },
  {
   "cell_type": "code",
   "execution_count": 6,
   "metadata": {},
   "outputs": [],
   "source": [
    "teams = {\n",
    "    'Boston' : 'BOS',\n",
    "    'Buffalo' : 'BUF',\n",
    "    'Detroit' : 'DET',\n",
    "    'Florida' : 'FLA',\n",
    "    'Montreal' : 'MON',\n",
    "    'Ottawa' : 'OTT',\n",
    "    'Tampa Bay' :  'TB',\n",
    "    'Toronto' : 'TOR',\n",
    "    'Arizona' : 'ARI',\n",
    "    'Chicago' : 'CHI',\n",
    "    'Colorado' : 'COL',\n",
    "    'Dallas' : 'DAL',\n",
    "    'Minnesota' : 'MIN',\n",
    "    'Nashville' : 'NSH',\n",
    "    'St. Louis' : 'STL',\n",
    "    'Winnipeg' : 'WPG',\n",
    "    'Carolina' : 'CAR',\n",
    "    'Columbus' : 'CLB',\n",
    "    'N.Y. Islanders' : 'NYI',\n",
    "    'N.Y. Rangers' : 'NYR',\n",
    "    'New Jersey' :  'NJ',\n",
    "    'Philadelphia' : 'PHI',\n",
    "    'Pittsburgh' : 'PIT',\n",
    "    'Washington' : 'WAS',\n",
    "    'Anaheim' : 'ANA',\n",
    "    'Calgary' : 'CGY',\n",
    "    'Edmonton' : 'EDM',\n",
    "    'Los Angeles' :  'LA',\n",
    "    'San Jose' :  'SJ',\n",
    "    'Seattle' : 'SEA',\n",
    "    'Vancouver' : 'VAN',\n",
    "    'Vegas' : 'VGK'\n",
    "}\n"
   ]
  },
  {
   "cell_type": "code",
   "execution_count": 7,
   "metadata": {},
   "outputs": [],
   "source": [
    "def randomHeader():\n",
    "    user_agents = [\n",
    "    'Mozilla/5.0 (Windows NT 10.0; Win64; x64) AppleWebKit/537.36 (KHTML, like Gecko) Chrome/109.0.0.0 Safari/537.36',\n",
    "    'Mozilla/5.0 (Macintosh; Intel Mac OS X 10_15_7) AppleWebKit/537.36 (KHTML, like Gecko) Chrome/109.0.0.0 Safari/537.36',\n",
    "    'Mozilla/5.0 (Windows NT 10.0; Win64; x64) AppleWebKit/537.36 (KHTML, like Gecko) Chrome/108.0.0.0 Safari/537.36',\n",
    "    'Mozilla/5.0 (Macintosh; Intel Mac OS X 10_15_7) AppleWebKit/537.36 (KHTML, like Gecko) Chrome/108.0.0.0 Safari/537.36',\n",
    "    'Mozilla/5.0 (X11; Linux x86_64) AppleWebKit/537.36 (KHTML, like Gecko) Chrome/108.0.0.0 Safari/537.36',\n",
    "    'Mozilla/5.0 (Macintosh; Intel Mac OS X 10_15_7) AppleWebKit/605.1.15 (KHTML, like Gecko) Version/16.1 Safari/605.1.15',\n",
    "    'Mozilla/5.0 (Macintosh; Intel Mac OS X 13_1) AppleWebKit/605.1.15 (KHTML, like Gecko) Version/16.1 Safari/605.1.15'\n",
    "    ]\n",
    "    return random.choice(user_agents)\n",
    "    "
   ]
  },
  {
   "cell_type": "code",
   "execution_count": 8,
   "metadata": {},
   "outputs": [],
   "source": [
    "#function that returns an array of gamers that have taken place between a given date range\n",
    "def getGames(startDate : int, endDate: int):\n",
    "    tempDate = startDate # variable that can be ittereated \n",
    "    gamesList = [] # array where the games can be stored\n",
    "    while tempDate <= endDate: # checks if we are still in the date range\n",
    "        url = f'https://www.cbssports.com/nhl/schedule/{tempDate}' #base url\n",
    "        headers = {'User-Agent': randomHeader()} # url header\n",
    "        page = requests.get(url, headers=headers)\n",
    "        soup = bs(page.content, 'html.parser') # converts the page to a beautifulsoup item\n",
    "        games = soup.findAll('span', class_ = 'TeamName') # findas all the spans on the page with the class TeamName\n",
    "        numberOfGames = len(games)/2 #calculate the number of gamers playied\n",
    "        count = 1\n",
    "        home,away = [],[]\n",
    "        for game in games:\n",
    "            if count % 2 == 0: home.append(game.text) #even count teams are saved to the home array\n",
    "            else: away.append(game.text) #odd count teams are saved to the away array\n",
    "            count+=1 #increments the count\n",
    "        i=0\n",
    "        while i < numberOfGames: #loops through the games\n",
    "            gameID = f'{tempDate}{teams[away[i]]}@{teams[home[i]]}' #the ID is the date, away team code, @, home team code\n",
    "            gamesList.append([teams[away[i]],teams[home[i]],gameID,tempDate]) # adds the game data to the game list array\n",
    "            i+=1\n",
    "        tempDate+=1 # moves date to be serched to the next date\n",
    "    return gamesList # returns the list of games"
   ]
  },
  {
   "cell_type": "code",
   "execution_count": 9,
   "metadata": {},
   "outputs": [],
   "source": [
    "def getWinners(startDate: int, endDate: int):\n",
    "    tempDate = startDate # variable that can be ittereated \n",
    "    winners = []\n",
    "    while tempDate <= endDate: # checks if we are still in the date range\n",
    "        url = f'https://www.cbssports.com/nhl/schedule/{tempDate}' #base url\n",
    "        headers = {'User-Agent': randomHeader()} # url header\n",
    "        page = requests.get(url, headers=headers)\n",
    "        soup = bs(page.content, 'html.parser') # converts the page to a beautifulsoup item\n",
    "        scores = soup.findAll('div', class_ = 'CellGame') # findas all the spans on the page with the class TeamNam\n",
    "        for score in scores:\n",
    "            winners.append(score.text[:3].strip())\n",
    "        tempDate +=1\n",
    "    return winners"
   ]
  },
  {
   "cell_type": "markdown",
   "metadata": {},
   "source": []
  },
  {
   "cell_type": "code",
   "execution_count": 34,
   "metadata": {},
   "outputs": [],
   "source": [
    "startDate = 20231010\n",
    "endDate = 20231027\n",
    "df = pd.DataFrame(getGames(startDate,endDate))\n",
    "df = df.rename(columns={0:'visitors', 1:'home', 2:'gameID', 3:'gameDate'})\n",
    "dfw = pd.DataFrame(getWinners(startDate, endDate))\n",
    "dfw = dfw.rename(columns={0:'winner'})\n",
    "df = pd.concat([df,dfw], axis=1, join='inner')\n",
    "df = df.set_index('gameID')\n",
    "df['gameDate'] = pd.to_datetime(df['gameDate'], format='%Y%m%d')"
   ]
  },
  {
   "cell_type": "code",
   "execution_count": 35,
   "metadata": {},
   "outputs": [],
   "source": [
    "df.to_csv(f'{startDate}-{endDate}_games.csv')"
   ]
  },
  {
   "cell_type": "code",
   "execution_count": null,
   "metadata": {},
   "outputs": [],
   "source": []
  }
 ],
 "metadata": {
  "kernelspec": {
   "display_name": "Python 3",
   "language": "python",
   "name": "python3"
  },
  "language_info": {
   "codemirror_mode": {
    "name": "ipython",
    "version": 3
   },
   "file_extension": ".py",
   "mimetype": "text/x-python",
   "name": "python",
   "nbconvert_exporter": "python",
   "pygments_lexer": "ipython3",
   "version": "3.10.0"
  }
 },
 "nbformat": 4,
 "nbformat_minor": 2
}
